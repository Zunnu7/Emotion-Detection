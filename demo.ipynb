{
 "cells": [
  {
   "cell_type": "code",
   "execution_count": 1,
   "id": "893013ef",
   "metadata": {},
   "outputs": [
    {
     "name": "stdout",
     "output_type": "stream",
     "text": [
      "💬 Emotion Detection Chat (type 'exit' to quit)\n",
      "\n",
      "Enter a sentence: I just got a new puppy!\n",
      "Predicted Emotion: happy\n",
      "\n",
      "Enter a sentence: I hate when things go wrong.\n",
      "Predicted Emotion: angry\n",
      "\n",
      "Enter a sentence: exit\n"
     ]
    }
   ],
   "source": [
    "import joblib\n",
    "\n",
    "# Load the saved model\n",
    "model = joblib.load(\"emotion_model.pkl\")\n",
    "\n",
    "print(\"💬 Emotion Detection Chat (type 'exit' to quit)\\n\")\n",
    "while True:\n",
    "    text = input(\"Enter a sentence: \")\n",
    "    if text.lower() == \"exit\":\n",
    "        break\n",
    "    prediction = model.predict([text])\n",
    "    print(f\"Predicted Emotion: {prediction[0]}\\n\")"
   ]
  }
 ],
 "metadata": {
  "kernelspec": {
   "display_name": "Python 3 (ipykernel)",
   "language": "python",
   "name": "python3"
  },
  "language_info": {
   "codemirror_mode": {
    "name": "ipython",
    "version": 3
   },
   "file_extension": ".py",
   "mimetype": "text/x-python",
   "name": "python",
   "nbconvert_exporter": "python",
   "pygments_lexer": "ipython3",
   "version": "3.11.3"
  }
 },
 "nbformat": 4,
 "nbformat_minor": 5
}
